{
  "cells": [
    {
      "cell_type": "code",
      "execution_count": 10,
      "id": "93cf5647",
      "metadata": {
        "id": "93cf5647"
      },
      "outputs": [],
      "source": [
        "\n",
        "import matplotlib.pyplot as plt\n",
        "import numpy as np\n",
        "import random\n",
        "import math\n",
        "from IPython.display import display, HTML\n",
        "import json\n",
        "import pathlib\n",
        ""
      ]
    },
    {
      "cell_type": "code",
      "execution_count": 11,
      "id": "27d052e4",
      "metadata": {
        "id": "27d052e4",
        "outputId": "ed89211e-e62e-4615-bf64-acb9f596354a",
        "colab": {
          "base_uri": "https://localhost:8080/"
        }
      },
      "outputs": [
        {
          "output_type": "stream",
          "name": "stdout",
          "text": [
            "Student Id6\n",
            "Student Namex\n",
            "{'student_id': '6', 'student_name': 'x'}\n"
          ]
        }
      ],
      "source": [
        "\n",
        "def load_config(fname):\n",
        "    d = {}\n",
        "    if pathlib.Path(fname).is_file():\n",
        "        with open(fname,\"r\") as f:\n",
        "            d = json.load(f)\n",
        "    else:\n",
        "        id = input(\"Student Id\")\n",
        "        name = input(\"Student Name\")\n",
        "        d[\"student_id\"] = id\n",
        "        d[\"student_name\"] = name\n",
        "        with open(fname,\"w\") as f:\n",
        "            json.dump(d,f)\n",
        "    return d\n",
        "\n",
        "config=load_config(\"config.json\")\n",
        "print(config)\n"
      ]
    },
    {
      "cell_type": "markdown",
      "id": "bd20d28c",
      "metadata": {
        "id": "bd20d28c"
      },
      "source": [
        "<!-- <div class=\"question_frame\"> --><!-- start of question_frame -->"
      ]
    },
    {
      "cell_type": "code",
      "execution_count": 12,
      "id": "53ac8cd4",
      "metadata": {
        "id": "53ac8cd4",
        "outputId": "7c6105c7-050d-4bce-8749-a9b50cc77a98",
        "colab": {
          "base_uri": "https://localhost:8080/",
          "height": 308
        }
      },
      "outputs": [
        {
          "output_type": "display_data",
          "data": {
            "text/plain": [
              "<IPython.core.display.HTML object>"
            ],
            "text/html": [
              "\n",
              "\n",
              "        <h1>Mystery Program</h1>\n",
              "        <div class=\"question_body\">\n",
              "             \n",
              "<p>Given is the following mystery program.</p>\n",
              "\n",
              "<code>\n",
              "<pre>\n",
              "\n",
              "# DO NOT EDIT THIS CODE\n",
              "def f(p1):\n",
              "    q1 = [21,46,46,72,10,53,15,94,30,32,20,14]\n",
              "    s = 0\n",
              "    for i in range(len(q1)):\n",
              "        p = q1[i % len(q1)]\n",
              "        if s == p1[i]:\n",
              "            s = s + p\n",
              "    return s == 259\n",
              "# DO NOT EDIT THIS CODE\n",
              "\n",
              "</pre>\n",
              "</code>\n",
              "\n",
              "        </div><!-- end of question_body -->\n",
              "    \n"
            ]
          },
          "metadata": {}
        }
      ],
      "source": [
        "t = \"\"\"\n",
        "\n",
        "        <h1>Mystery Program</h1>\n",
        "        <div class=\"question_body\">\n",
        "\n",
        "<p>Given is the following mystery program.</p>\n",
        "\n",
        "<code>\n",
        "<pre>\n",
        "\n",
        "# DO NOT EDIT THIS CODE\n",
        "def f(p1):\n",
        "    q1 = [21,46,46,72,10,53,15,94,30,32,20,14]\n",
        "    s = 0\n",
        "    for i in range(len(q1)):\n",
        "        p = q1[i % len(q1)]\n",
        "        if s == p1[i]:\n",
        "            s = s + p\n",
        "    return s == 259\n",
        "# DO NOT EDIT THIS CODE\n",
        "\n",
        "</pre>\n",
        "</code>\n",
        "\n",
        "        </div><!-- end of question_body -->\n",
        "\n",
        "\"\"\"\n",
        "display(HTML(t))"
      ]
    },
    {
      "cell_type": "markdown",
      "id": "99e98d63",
      "metadata": {
        "id": "99e98d63"
      },
      "source": [
        "<div class=\"question_marks\"><span class=\"mark_num\" style=\"text-align:right\">12</span> marks</div><!-- end of question_marks -->"
      ]
    },
    {
      "cell_type": "code",
      "execution_count": 13,
      "id": "485dad69",
      "metadata": {
        "id": "485dad69",
        "outputId": "624dce80-c9ec-4eb5-9c2a-cc9808c54fe6",
        "colab": {
          "base_uri": "https://localhost:8080/"
        }
      },
      "outputs": [
        {
          "output_type": "stream",
          "name": "stdout",
          "text": [
            "p1: [0, 21, 67, 113, 185, -1, -1, -1, 195, -1, 225, 245] result: True passed: passed\n"
          ]
        }
      ],
      "source": [
        "def f(p1):\n",
        "    q1 = [21,46,46,72,10,53,15,94,30,32,20,14]\n",
        "    s = 0\n",
        "    for i in range(len(q1)):\n",
        "        p = q1[i % len(q1)]\n",
        "        if s == p1[i]:\n",
        "            s = s + p\n",
        "    return s == 259\n",
        "# Find an input such that the routine f(p1) returns True\n",
        "# Modify the value of p1 here\n",
        "p1 = [ 0, 21, 67, 113, 185, -1, -1, -1, 195, -1, 225, 245 ]\n",
        "r = f(p1)\n",
        "print(\"p1:\",p1,\"result:\", r, \"passed:\", \"passed\" if r == True else \"failed\")\n",
        "\n"
      ]
    },
    {
      "cell_type": "markdown",
      "id": "16471fc7",
      "metadata": {
        "id": "16471fc7"
      },
      "source": [
        "<p>Show your work and explain your answer in this cell. You can add additional markdown and code cells, if you want to after this cell.</p>"
      ]
    },
    {
      "cell_type": "code",
      "source": [
        "q1 = [21, 46, 46, 72, 10, 53, 15, 94, 30, 32, 20, 14]\n",
        "target = 259\n",
        "\n",
        "def f(p1):\n",
        "    s = 0\n",
        "    trace = []\n",
        "    for i in range(len(q1)):\n",
        "        p = q1[i % len(q1)]\n",
        "        if s == p1[i]:\n",
        "            trace.append((i, s, q1[i]))\n",
        "            s += p\n",
        "    return s == target, trace\n",
        "\n",
        "# 回溯函数，打印所有尝试路径\n",
        "def find_p1_with_trace():\n",
        "    n = len(q1)\n",
        "\n",
        "    def backtrack(i, s, path):\n",
        "        if i == n:\n",
        "            if s == target:\n",
        "                return path\n",
        "            return None\n",
        "\n",
        "        # 选中此步骤\n",
        "        path_on = path + [s]\n",
        "        res_on = backtrack(i + 1, s + q1[i], path_on)\n",
        "        if res_on:\n",
        "            return res_on\n",
        "\n",
        "        # 跳过此步骤\n",
        "        path_off = path + [-1]\n",
        "        res_off = backtrack(i + 1, s, path_off)\n",
        "        if res_off:\n",
        "            return res_off\n",
        "\n",
        "        return None\n",
        "\n",
        "    return backtrack(0, 0, [])\n",
        "\n",
        "# 查找合法 p1，并打印运行路径\n",
        "p1 = find_p1_with_trace()\n",
        "if p1:\n",
        "    success, trace = f(p1)\n",
        "    print(\"✅ Found valid p1:\")\n",
        "    print(p1)\n",
        "    print(\"\\n🧠 Trace of s during execution:\")\n",
        "    for i, s_before, added in trace:\n",
        "        print(f\"Step {i}: s == {s_before}, added q1[{i}] = {added} → s becomes {s_before + added}\")\n",
        "    print(f\"\\nFinal s = {sum(q1[i] for i, _, _ in trace)} ✅\")\n",
        "else:\n",
        "    print(\"❌ No valid p1 found.\")\n"
      ],
      "metadata": {
        "id": "3A7pzrLStKwl",
        "outputId": "c7e58e9c-10a3-429c-f3e6-6195a94ea3f8",
        "colab": {
          "base_uri": "https://localhost:8080/"
        }
      },
      "id": "3A7pzrLStKwl",
      "execution_count": 14,
      "outputs": [
        {
          "output_type": "stream",
          "name": "stdout",
          "text": [
            "✅ Found valid p1:\n",
            "[0, 21, 67, 113, 185, -1, -1, -1, 195, -1, 225, 245]\n",
            "\n",
            "🧠 Trace of s during execution:\n",
            "Step 0: s == 0, added q1[0] = 21 → s becomes 21\n",
            "Step 1: s == 21, added q1[1] = 46 → s becomes 67\n",
            "Step 2: s == 67, added q1[2] = 46 → s becomes 113\n",
            "Step 3: s == 113, added q1[3] = 72 → s becomes 185\n",
            "Step 4: s == 185, added q1[4] = 10 → s becomes 195\n",
            "Step 8: s == 195, added q1[8] = 30 → s becomes 225\n",
            "Step 10: s == 225, added q1[10] = 20 → s becomes 245\n",
            "Step 11: s == 245, added q1[11] = 14 → s becomes 259\n",
            "\n",
            "Final s = 259 ✅\n"
          ]
        }
      ]
    },
    {
      "cell_type": "markdown",
      "id": "5c5803ed",
      "metadata": {
        "id": "5c5803ed"
      },
      "source": [
        "<!-- </div> --><!-- end of question_frame -->"
      ]
    },
    {
      "cell_type": "markdown",
      "id": "7db6aeb7",
      "metadata": {
        "id": "7db6aeb7"
      },
      "source": [
        "<!-- <div class=\"question_frame\"> --><!-- start of question_frame -->"
      ]
    },
    {
      "cell_type": "code",
      "execution_count": 15,
      "id": "8866c0d1",
      "metadata": {
        "id": "8866c0d1",
        "outputId": "cd7cbd5d-b325-48e2-a015-04e9009a1e6c",
        "colab": {
          "base_uri": "https://localhost:8080/",
          "height": 100
        }
      },
      "outputs": [
        {
          "output_type": "display_data",
          "data": {
            "text/plain": [
              "<IPython.core.display.HTML object>"
            ],
            "text/html": [
              "\n",
              "\n",
              "        <h1>Runtime Complexity</h1>\n",
              "        <div class=\"question_body\">\n",
              "             \n",
              "<p>You call the routine <code>f</code> with an input list of length\n",
              "54000. You measure a time of 0.54 seconds for the routine to\n",
              "complete.</p>\n",
              "\n",
              "        </div><!-- end of question_body -->\n",
              "    \n"
            ]
          },
          "metadata": {}
        }
      ],
      "source": [
        "t = \"\"\"\n",
        "\n",
        "        <h1>Runtime Complexity</h1>\n",
        "        <div class=\"question_body\">\n",
        "\n",
        "<p>You call the routine <code>f</code> with an input list of length\n",
        "54000. You measure a time of 0.54 seconds for the routine to\n",
        "complete.</p>\n",
        "\n",
        "        </div><!-- end of question_body -->\n",
        "\n",
        "\"\"\"\n",
        "display(HTML(t))"
      ]
    },
    {
      "cell_type": "markdown",
      "id": "c2fed584",
      "metadata": {
        "id": "c2fed584"
      },
      "source": [
        "<div class=\"question_marks\"><span class=\"mark_num\" style=\"text-align:right\">5</span> marks</div><!-- end of question_marks -->"
      ]
    },
    {
      "cell_type": "markdown",
      "id": "d6ca8022",
      "metadata": {
        "id": "d6ca8022"
      },
      "source": [
        "<p>Estimate the runtime of the routine <code>f</code>, if you callthe routine with an input list of length 102000.</p><p>Runtime of routine <code>f</code> with an input list oflength 102000: [ENTER YOUR ANSWER HERE]</p>"
      ]
    },
    {
      "cell_type": "markdown",
      "id": "923e31f9",
      "metadata": {
        "id": "923e31f9"
      },
      "source": [
        "<p>Show your work and explain your answer in this cell. If you want to, you can add additional markdown and code cells after this cell.</p>"
      ]
    },
    {
      "cell_type": "markdown",
      "id": "c43a553e",
      "metadata": {
        "id": "c43a553e"
      },
      "source": [
        "<!-- </div> --><!-- end of question_frame -->"
      ]
    }
  ],
  "metadata": {
    "colab": {
      "provenance": []
    },
    "language_info": {
      "name": "python"
    },
    "kernelspec": {
      "name": "python3",
      "display_name": "Python 3"
    }
  },
  "nbformat": 4,
  "nbformat_minor": 5
}